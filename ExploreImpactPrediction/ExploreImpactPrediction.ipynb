{
 "metadata": {
  "name": "",
  "signature": "sha256:f7490aae328d967d46937648cee19dcf3b40dee803abd3607a58703297352657"
 },
 "nbformat": 3,
 "nbformat_minor": 0,
 "worksheets": [
  {
   "cells": [
    {
     "cell_type": "heading",
     "level": 1,
     "metadata": {},
     "source": [
      "Exploration of scientific article impact prediction"
     ]
    },
    {
     "cell_type": "markdown",
     "metadata": {},
     "source": [
      "James Weis, 2014\n",
      "\n",
      "A (currently brief) exploration of methodologies for identifying the features indicitive of high-impact scientific articles, and attempting to predict impact using these features."
     ]
    },
    {
     "cell_type": "code",
     "collapsed": false,
     "input": [
      "import re\n",
      "import nltk\n",
      "\n",
      "fpath = './abstracts-and-citation-count.txt'\n",
      "fdata = open(fpath, 'r').read()\n",
      "\n",
      "p = r'^([0-9]+)$\\n^(.*\\.)$'\n",
      "\n",
      "all_data = []\n",
      "for (c, a) in re.findall(p, fdata, re.MULTILINE):\n",
      "    all_data.append((nltk.word_tokenize(a), int(c)))\n",
      "    \n",
      "print(\"Found {} data points.\".format(len(all_data)))"
     ],
     "language": "python",
     "metadata": {},
     "outputs": [
      {
       "output_type": "stream",
       "stream": "stdout",
       "text": [
        "Found 22 data points.\n"
       ]
      }
     ],
     "prompt_number": 40
    },
    {
     "cell_type": "code",
     "collapsed": false,
     "input": [
      "import numpy as np\n",
      "import nltk\n",
      "\n",
      "impact_cutoff = np.percentile([c for (a, c) in all_data], 90)\n",
      "print(\"Set impact cutoff at {} citations (90th percentile)\".format(impact_cutoff))\n",
      "\n",
      "data = [(a, 'high-impact') if c >= impact_cutoff else (a, 'low-impact') for (a, c) in all_data]"
     ],
     "language": "python",
     "metadata": {},
     "outputs": [
      {
       "output_type": "stream",
       "stream": "stdout",
       "text": [
        "Set impact cutoff at 484.8 citations (90th percentile)\n"
       ]
      }
     ],
     "prompt_number": 41
    },
    {
     "cell_type": "code",
     "collapsed": false,
     "input": [
      "number_of_features = 2000\n",
      "all_words = nltk.FreqDist(w.lower() for (a, c) in data for w in a)\n",
      "word_features = all_words.keys()[:number_of_features]\n",
      "print(\"Using the top {} words as feature vectors\".format(number_of_features))\n",
      "\n",
      "def abstract_features(abstract):\n",
      "        abstract_words = set(abstract)\n",
      "        features = {}\n",
      "        for word in word_features:\n",
      "            features['contains(%s)' % word] = (word in abstract_words)\n",
      "        return features"
     ],
     "language": "python",
     "metadata": {},
     "outputs": [
      {
       "output_type": "stream",
       "stream": "stdout",
       "text": [
        "Using the top 2000 words as feature vectors\n"
       ]
      }
     ],
     "prompt_number": 42
    },
    {
     "cell_type": "code",
     "collapsed": false,
     "input": [
      "from sklearn.cross_validation import train_test_split\n",
      "\n",
      "featuresets = [(abstract_features(a), c) for (a, c) in data]\n",
      "\n",
      "train_set, test_set = train_test_split(featuresets, test_size=.5)\n",
      "print(\"Seperated data into {} training and {} test feature sets\".format(len(train_set), len(test_set)))"
     ],
     "language": "python",
     "metadata": {},
     "outputs": [
      {
       "output_type": "stream",
       "stream": "stdout",
       "text": [
        "Seperated data into 11 training and 11 test feature sets\n"
       ]
      }
     ],
     "prompt_number": 43
    },
    {
     "cell_type": "code",
     "collapsed": false,
     "input": [
      "print(\"Training classifier...\"),\n",
      "classifier = nltk.NaiveBayesClassifier.train(train_set)\n",
      "print(\"Done.\")"
     ],
     "language": "python",
     "metadata": {},
     "outputs": [
      {
       "output_type": "stream",
       "stream": "stdout",
       "text": [
        "Training classifier... "
       ]
      },
      {
       "output_type": "stream",
       "stream": "stdout",
       "text": [
        "Done.\n"
       ]
      }
     ],
     "prompt_number": 44
    },
    {
     "cell_type": "code",
     "collapsed": false,
     "input": [
      "testing_accuracy = nltk.classify.accuracy(classifier, test_set)\n",
      "print(\"Prediction accuracy: {:.2%}\".format(testing_accuracy))"
     ],
     "language": "python",
     "metadata": {},
     "outputs": [
      {
       "output_type": "stream",
       "stream": "stdout",
       "text": [
        "Prediction accuracy: 81.82%\n"
       ]
      }
     ],
     "prompt_number": 45
    },
    {
     "cell_type": "code",
     "collapsed": false,
     "input": [
      "print classifier.show_most_informative_features()"
     ],
     "language": "python",
     "metadata": {},
     "outputs": [
      {
       "output_type": "stream",
       "stream": "stdout",
       "text": [
        "Most Informative Features\n",
        "   contains(significant) = True           high-i : low-im =      4.6 : 1.0\n",
        "          contains(time) = True           high-i : low-im =      4.6 : 1.0\n",
        "            contains(is) = False          high-i : low-im =      4.6 : 1.0\n",
        "             contains(a) = False          high-i : low-im =      4.6 : 1.0\n",
        "    contains(persistent) = True           high-i : low-im =      4.6 : 1.0\n",
        "        contains(impair) = True           high-i : low-im =      4.6 : 1.0\n",
        "        contains(showed) = True           high-i : low-im =      4.6 : 1.0\n",
        "        contains(levels) = True           high-i : low-im =      4.6 : 1.0\n",
        "    contains(correlated) = True           high-i : low-im =      4.6 : 1.0\n",
        "       contains(produce) = True           high-i : low-im =      2.8 : 1.0\n",
        "None\n"
       ]
      }
     ],
     "prompt_number": 46
    },
    {
     "cell_type": "markdown",
     "metadata": {},
     "source": [
      "These results show clear overfitting, which is to be expected given the manually curated dataset being used. More data is needed, and next steps involve the obtainment of the same."
     ]
    }
   ],
   "metadata": {}
  }
 ]
}